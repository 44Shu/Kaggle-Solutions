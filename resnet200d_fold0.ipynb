{
  "nbformat": 4,
  "nbformat_minor": 0,
  "metadata": {
    "kernelspec": {
      "display_name": "Python 3",
      "language": "python",
      "name": "python3"
    },
    "language_info": {
      "codemirror_mode": {
        "name": "ipython",
        "version": 3
      },
      "file_extension": ".py",
      "mimetype": "text/x-python",
      "name": "python",
      "nbconvert_exporter": "python",
      "pygments_lexer": "ipython3",
      "version": "3.7.6"
    },
    "papermill": {
      "duration": 375.081247,
      "end_time": "2021-01-05T05:40:18.629497",
      "environment_variables": {},
      "exception": null,
      "input_path": "__notebook__.ipynb",
      "output_path": "__notebook__.ipynb",
      "parameters": {},
      "start_time": "2021-01-05T05:34:03.548250",
      "version": "2.1.0"
    },
    "colab": {
      "name": "resnet200d fold0.ipynb",
      "provenance": [],
      "machine_shape": "hm",
      "include_colab_link": true
    },
    "accelerator": "GPU"
  },
  "cells": [
    {
      "cell_type": "markdown",
      "metadata": {
        "id": "view-in-github",
        "colab_type": "text"
      },
      "source": [
        "<a href=\"https://colab.research.google.com/github/44Shu/Kaggle-Solutions/blob/main/resnet200d_fold0.ipynb\" target=\"_parent\"><img src=\"https://colab.research.google.com/assets/colab-badge.svg\" alt=\"Open In Colab\"/></a>"
      ]
    },
    {
      "cell_type": "code",
      "metadata": {
        "colab": {
          "base_uri": "https://localhost:8080/"
        },
        "id": "6HGicK8D8aL0",
        "outputId": "3e9c1802-87bc-424b-fa49-89c364906f1a"
      },
      "source": [
        "from google.colab import drive\r\n",
        "drive.mount('/content/drive')"
      ],
      "execution_count": 1,
      "outputs": [
        {
          "output_type": "stream",
          "text": [
            "Mounted at /content/drive\n"
          ],
          "name": "stdout"
        }
      ]
    },
    {
      "cell_type": "markdown",
      "metadata": {
        "papermill": {
          "duration": 0.012275,
          "end_time": "2021-01-05T05:34:07.460738",
          "exception": false,
          "start_time": "2021-01-05T05:34:07.448463",
          "status": "completed"
        },
        "tags": [],
        "id": "MgX0tUqY2Nb6"
      },
      "source": [
        "## Summary\n",
        "Hi, Kagglers. This is a public benchmark with resnet200d using `image_size = 512`. Since it's only the beginning of the competition, I feel like giving an idea of what can be achieved with solely images. Weights are available [here](https://www.kaggle.com/underwearfitting/resnet200d-baseline-benchmark-public). Inference is available [here](https://www.kaggle.com/underwearfitting/resnet200d-public-benchmark-2xtta).\n",
        "\n",
        "Here is the single fold training notebook. However, It cannot be run on kaggle because of the limiting computing resources. It can reach CV around 0.955 every fold and LB 0.965 in 5 folds. Notebook modified from https://www.kaggle.com/haqishen/1st-place-soluiton-code-small-ver. It's slightly different from my local version but I believe you are smart enough to figure it out."
      ]
    },
    {
      "cell_type": "markdown",
      "metadata": {
        "papermill": {
          "duration": 0.010285,
          "end_time": "2021-01-05T05:34:07.481638",
          "exception": false,
          "start_time": "2021-01-05T05:34:07.471353",
          "status": "completed"
        },
        "tags": [],
        "id": "Dt1zNNZE2NcA"
      },
      "source": [
        "## Configuration"
      ]
    },
    {
      "cell_type": "code",
      "metadata": {
        "_cell_guid": "b1076dfc-b9ad-4769-8c92-a6c4dae69d19",
        "_uuid": "8f2839f25d086af736a60e9eeb907d3b93b6e0e5",
        "execution": {
          "iopub.execute_input": "2021-01-05T05:34:07.512249Z",
          "iopub.status.busy": "2021-01-05T05:34:07.511443Z",
          "iopub.status.idle": "2021-01-05T05:34:08.145868Z",
          "shell.execute_reply": "2021-01-05T05:34:08.145375Z"
        },
        "papermill": {
          "duration": 0.653913,
          "end_time": "2021-01-05T05:34:08.145979",
          "exception": false,
          "start_time": "2021-01-05T05:34:07.492066",
          "status": "completed"
        },
        "tags": [],
        "id": "PNNQ-9O-2NcB"
      },
      "source": [
        "fold_id = 0\n",
        "\n",
        "# image_size = 512\n",
        "image_size = 640\n",
        "seed = 42\n",
        "warmup_epo = 1\n",
        "init_lr = 1e-4/3\n",
        "batch_size = 8 # 64\n",
        "valid_batch_size = 32\n",
        "n_epochs = 30\n",
        "warmup_factor = 10\n",
        "num_workers = 4\n",
        "\n",
        "use_amp = True\n",
        "debug = False # change this to run on full data\n",
        "early_stop = 5\n",
        "\n",
        "kernel_type = 'resnet200d'\n",
        "data_dir = '/content/data'\n",
        "\n",
        "model_dir = f'/content/drive/MyDrive/RANSAC'\n",
        "# ! mkdir $model_dir"
      ],
      "execution_count": 1,
      "outputs": []
    },
    {
      "cell_type": "markdown",
      "metadata": {
        "papermill": {
          "duration": 0.010584,
          "end_time": "2021-01-05T05:34:08.168021",
          "exception": false,
          "start_time": "2021-01-05T05:34:08.157437",
          "status": "completed"
        },
        "tags": [],
        "id": "rDkUIC2M2NcC"
      },
      "source": [
        "## Imports"
      ]
    },
    {
      "cell_type": "code",
      "metadata": {
        "execution": {
          "iopub.execute_input": "2021-01-05T05:34:08.195004Z",
          "iopub.status.busy": "2021-01-05T05:34:08.194226Z",
          "iopub.status.idle": "2021-01-05T05:34:20.070553Z",
          "shell.execute_reply": "2021-01-05T05:34:20.070035Z"
        },
        "papermill": {
          "duration": 11.892066,
          "end_time": "2021-01-05T05:34:20.070654",
          "exception": false,
          "start_time": "2021-01-05T05:34:08.178588",
          "status": "completed"
        },
        "tags": [],
        "id": "A7TXCVsm2NcC"
      },
      "source": [
        "!pip install -q pip install git+https://github.com/ildoonet/pytorch-gradual-warmup-lr.git\r\n",
        "!pip install fsspec\r\n",
        "!pip install gcsfs\r\n",
        "!pip install timm"
      ],
      "execution_count": null,
      "outputs": []
    },
    {
      "cell_type": "code",
      "metadata": {
        "id": "prdf80mo_miZ"
      },
      "source": [
        "!pip uninstall albumentations\r\n",
        "!pip install albumentations"
      ],
      "execution_count": null,
      "outputs": []
    },
    {
      "cell_type": "code",
      "metadata": {
        "id": "FUc2RTfaomEL"
      },
      "source": [
        "# !pip install -q kaggle\r\n",
        "!pip install kaggle --upgrade"
      ],
      "execution_count": null,
      "outputs": []
    },
    {
      "cell_type": "code",
      "metadata": {
        "_cell_guid": "79c7e3d0-c299-4dcb-8224-4455121ee9b0",
        "_uuid": "d629ff2d2480ee46fbb7e2d37f6b5fab8052498a",
        "execution": {
          "iopub.execute_input": "2021-01-05T05:34:20.104275Z",
          "iopub.status.busy": "2021-01-05T05:34:20.103492Z",
          "iopub.status.idle": "2021-01-05T05:34:23.725655Z",
          "shell.execute_reply": "2021-01-05T05:34:23.724300Z"
        },
        "papermill": {
          "duration": 3.642867,
          "end_time": "2021-01-05T05:34:23.725771",
          "exception": false,
          "start_time": "2021-01-05T05:34:20.082904",
          "status": "completed"
        },
        "tags": [],
        "id": "Y4roe9cB2NcE"
      },
      "source": [
        "import pandas as pd\n",
        "import numpy as np\n",
        "import sys\n",
        "sys.path.append('gs://kds-be051e75db59530431926394e6277d3d3c119d6e395d0850c3cd0482/pytorch-image-models-master/')\n",
        "import os\n",
        "import time\n",
        "import cv2\n",
        "import PIL.Image\n",
        "import random\n",
        "from sklearn.metrics import accuracy_score\n",
        "import torch\n",
        "from torch.utils.data import DataLoader, Dataset\n",
        "import torch.nn as nn\n",
        "import torch.nn.functional as F\n",
        "import torchvision\n",
        "import torchvision.transforms as transforms\n",
        "import torch.optim as optim\n",
        "from torch.optim.lr_scheduler import CosineAnnealingLR \n",
        "from warmup_scheduler import GradualWarmupScheduler\n",
        "import albumentations\n",
        "from albumentations import *\n",
        "from tqdm import tqdm\n",
        "import matplotlib.pyplot as plt\n",
        "import gc\n",
        "from sklearn.metrics import roc_auc_score\n",
        "import seaborn as sns\n",
        "from pylab import rcParams\n",
        "import timm\n",
        "from warnings import filterwarnings\n",
        "filterwarnings(\"ignore\")\n",
        "\n",
        "device = torch.device('cuda')"
      ],
      "execution_count": 2,
      "outputs": []
    },
    {
      "cell_type": "markdown",
      "metadata": {
        "id": "KtQfsEU4woCM"
      },
      "source": [
        "## Download Data using Kaggle Api"
      ]
    },
    {
      "cell_type": "code",
      "metadata": {
        "colab": {
          "base_uri": "https://localhost:8080/"
        },
        "id": "UxRu0G6rtCht",
        "outputId": "644117df-b466-48eb-ae34-7e6941ebfc60"
      },
      "source": [
        "!mkdir data\r\n",
        "!mkdir Kaggle"
      ],
      "execution_count": 3,
      "outputs": [
        {
          "output_type": "stream",
          "text": [
            "mkdir: cannot create directory ‘data’: File exists\n",
            "mkdir: cannot create directory ‘Kaggle’: File exists\n"
          ],
          "name": "stdout"
        }
      ]
    },
    {
      "cell_type": "code",
      "metadata": {
        "id": "7sAA6KC6wuyd"
      },
      "source": [
        "os.environ['KAGGLE_CONFIG_DIR'] = '/content/Kaggle'\r\n",
        "%cd /content/Kaggle\r\n",
        "# !kaggle competitions download -c ranzcr-clip-catheter-line-classification\r\n",
        "!kaggle datasets download -d serigne/ranzcr-training"
      ],
      "execution_count": null,
      "outputs": []
    },
    {
      "cell_type": "code",
      "metadata": {
        "id": "gVHFYui8ww2N"
      },
      "source": [
        "import zipfile\r\n",
        "with zipfile.ZipFile('/content/Kaggle/ranzcr-training.zip','r') as zip_ref:\r\n",
        "  zip_ref.extractall('/content/data')"
      ],
      "execution_count": null,
      "outputs": []
    },
    {
      "cell_type": "code",
      "metadata": {
        "id": "g4tYEVUWwyky"
      },
      "source": [
        "!rm *.zip"
      ],
      "execution_count": 13,
      "outputs": []
    },
    {
      "cell_type": "markdown",
      "metadata": {
        "papermill": {
          "duration": 0.010976,
          "end_time": "2021-01-05T05:34:23.748081",
          "exception": false,
          "start_time": "2021-01-05T05:34:23.737105",
          "status": "completed"
        },
        "tags": [],
        "id": "yUV2m1zl2NcF"
      },
      "source": [
        "## Model"
      ]
    },
    {
      "cell_type": "code",
      "metadata": {
        "execution": {
          "iopub.execute_input": "2021-01-05T05:34:23.780605Z",
          "iopub.status.busy": "2021-01-05T05:34:23.778974Z",
          "iopub.status.idle": "2021-01-05T05:34:23.781320Z",
          "shell.execute_reply": "2021-01-05T05:34:23.781735Z"
        },
        "papermill": {
          "duration": 0.022682,
          "end_time": "2021-01-05T05:34:23.781850",
          "exception": false,
          "start_time": "2021-01-05T05:34:23.759168",
          "status": "completed"
        },
        "tags": [],
        "id": "4HfZI0Nm2NcH"
      },
      "source": [
        "class RANZCRResNet200D(nn.Module):\n",
        "    def __init__(self, model_name='resnet200d', out_dim=11, pretrained=False):\n",
        "        super().__init__()\n",
        "        self.model = timm.create_model(model_name, pretrained=False)\n",
        "        if pretrained:\n",
        "            pretrained_path = '/content/drive/MyDrive/RANSAC/resnet200d_ra2-bdba9bf9.pth'\n",
        "            self.model.load_state_dict(torch.load(pretrained_path))\n",
        "            # pretrained_path = '/content/drive/MyDrive/RANSAC/resnet200d_fold0_cv953.pth'\n",
        "            # self.model.load_state_dict(torch.load(pretrained_path),map_location={'cuda:1':'cuda:0'})\n",
        "        n_features = self.model.fc.in_features\n",
        "        self.model.global_pool = nn.Identity()\n",
        "        self.model.fc = nn.Identity()\n",
        "        self.pooling = nn.AdaptiveAvgPool2d(1)\n",
        "        self.fc = nn.Linear(n_features, out_dim)\n",
        "\n",
        "    def forward(self, x):\n",
        "        bs = x.size(0)\n",
        "        features = self.model(x)\n",
        "        pooled_features = self.pooling(features).view(bs, -1)\n",
        "        output = self.fc(pooled_features)\n",
        "        return output"
      ],
      "execution_count": 4,
      "outputs": []
    },
    {
      "cell_type": "markdown",
      "metadata": {
        "papermill": {
          "duration": 0.011021,
          "end_time": "2021-01-05T05:34:23.804023",
          "exception": false,
          "start_time": "2021-01-05T05:34:23.793002",
          "status": "completed"
        },
        "tags": [],
        "id": "Yp2GWtTF2NcL"
      },
      "source": [
        "## Utils"
      ]
    },
    {
      "cell_type": "code",
      "metadata": {
        "execution": {
          "iopub.execute_input": "2021-01-05T05:34:23.837932Z",
          "iopub.status.busy": "2021-01-05T05:34:23.837370Z",
          "iopub.status.idle": "2021-01-05T05:34:23.843545Z",
          "shell.execute_reply": "2021-01-05T05:34:23.843043Z"
        },
        "papermill": {
          "duration": 0.028285,
          "end_time": "2021-01-05T05:34:23.843626",
          "exception": false,
          "start_time": "2021-01-05T05:34:23.815341",
          "status": "completed"
        },
        "tags": [],
        "id": "gWnAMguQ2NcM"
      },
      "source": [
        "class GradualWarmupSchedulerV2(GradualWarmupScheduler):\n",
        "    def __init__(self, optimizer, multiplier, total_epoch, after_scheduler=None):\n",
        "        super(GradualWarmupSchedulerV2, self).__init__(optimizer, multiplier, total_epoch, after_scheduler)\n",
        "    def get_lr(self):\n",
        "        if self.last_epoch > self.total_epoch:\n",
        "            if self.after_scheduler:\n",
        "                if not self.finished:\n",
        "                    self.after_scheduler.base_lrs = [base_lr * self.multiplier for base_lr in self.base_lrs]\n",
        "                    self.finished = True\n",
        "                return self.after_scheduler.get_lr()\n",
        "            return [base_lr * self.multiplier for base_lr in self.base_lrs]\n",
        "        if self.multiplier == 1.0:\n",
        "            return [base_lr * (float(self.last_epoch) / self.total_epoch) for base_lr in self.base_lrs]\n",
        "        else:\n",
        "            return [base_lr * ((self.multiplier - 1.) * self.last_epoch / self.total_epoch + 1.) for base_lr in self.base_lrs]\n",
        "\n",
        "def seed_everything(seed):\n",
        "    random.seed(seed)\n",
        "    os.environ['PYTHONHASHSEED'] = str(seed)\n",
        "    np.random.seed(seed)\n",
        "    torch.manual_seed(seed)\n",
        "    torch.cuda.manual_seed(seed)\n",
        "    torch.backends.cudnn.deterministic = True\n",
        "    torch.backends.cudnn.benchmark = True # for faster training, but not deterministic\n",
        "    \n",
        "seed_everything(seed)"
      ],
      "execution_count": 5,
      "outputs": []
    },
    {
      "cell_type": "markdown",
      "metadata": {
        "papermill": {
          "duration": 0.011114,
          "end_time": "2021-01-05T05:34:23.868630",
          "exception": false,
          "start_time": "2021-01-05T05:34:23.857516",
          "status": "completed"
        },
        "tags": [],
        "id": "ccpgqNwl2NcN"
      },
      "source": [
        "## Transforms"
      ]
    },
    {
      "cell_type": "code",
      "metadata": {
        "execution": {
          "iopub.execute_input": "2021-01-05T05:34:23.903753Z",
          "iopub.status.busy": "2021-01-05T05:34:23.903220Z",
          "iopub.status.idle": "2021-01-05T05:34:23.907369Z",
          "shell.execute_reply": "2021-01-05T05:34:23.906782Z"
        },
        "papermill": {
          "duration": 0.027104,
          "end_time": "2021-01-05T05:34:23.907462",
          "exception": false,
          "start_time": "2021-01-05T05:34:23.880358",
          "status": "completed"
        },
        "tags": [],
        "id": "z3WEplMg2NcN"
      },
      "source": [
        "transforms_train = albumentations.Compose([\n",
        "   albumentations.RandomResizedCrop(image_size, image_size, scale=(0.9, 1), p=1), \n",
        "   albumentations.HorizontalFlip(p=0.5),\n",
        "   albumentations.ShiftScaleRotate(p=0.5),\n",
        "   albumentations.HueSaturationValue(hue_shift_limit=10, sat_shift_limit=10, val_shift_limit=10, p=0.7),\n",
        "   albumentations.RandomBrightnessContrast(brightness_limit=(-0.2,0.2), contrast_limit=(-0.2, 0.2), p=0.7),\n",
        "   albumentations.CLAHE(clip_limit=(1,4), p=0.5),\n",
        "   albumentations.OneOf([\n",
        "       albumentations.OpticalDistortion(distort_limit=1.0),\n",
        "       albumentations.GridDistortion(num_steps=5, distort_limit=1.),\n",
        "       albumentations.ElasticTransform(alpha=3),\n",
        "   ], p=0.2),\n",
        "   albumentations.OneOf([\n",
        "       albumentations.GaussNoise(var_limit=[10, 50]),\n",
        "       albumentations.GaussianBlur(),\n",
        "       albumentations.MotionBlur(),\n",
        "       albumentations.MedianBlur(),\n",
        "   ], p=0.2),\n",
        "  albumentations.Resize(image_size, image_size),\n",
        "  albumentations.OneOf([\n",
        "      JpegCompression(),\n",
        "      Downscale(scale_min=0.1, scale_max=0.15),\n",
        "  ], p=0.2),\n",
        "  IAAPiecewiseAffine(p=0.2),\n",
        "  IAASharpen(p=0.2),\n",
        "  albumentations.Cutout(max_h_size=int(image_size * 0.1), max_w_size=int(image_size * 0.1), num_holes=5, p=0.5),\n",
        "  albumentations.Normalize(),\n",
        "])\n",
        "\n",
        "transforms_valid = albumentations.Compose([\n",
        "    albumentations.Resize(image_size, image_size),\n",
        "    albumentations.Normalize()\n",
        "])"
      ],
      "execution_count": 6,
      "outputs": []
    },
    {
      "cell_type": "markdown",
      "metadata": {
        "papermill": {
          "duration": 0.011525,
          "end_time": "2021-01-05T05:34:23.930452",
          "exception": false,
          "start_time": "2021-01-05T05:34:23.918927",
          "status": "completed"
        },
        "tags": [],
        "id": "rE5ZXl4C2NcP"
      },
      "source": [
        "## Dataset"
      ]
    },
    {
      "cell_type": "code",
      "metadata": {
        "execution": {
          "iopub.execute_input": "2021-01-05T05:34:23.964149Z",
          "iopub.status.busy": "2021-01-05T05:34:23.961043Z",
          "iopub.status.idle": "2021-01-05T05:34:23.966851Z",
          "shell.execute_reply": "2021-01-05T05:34:23.966359Z"
        },
        "papermill": {
          "duration": 0.024921,
          "end_time": "2021-01-05T05:34:23.966948",
          "exception": false,
          "start_time": "2021-01-05T05:34:23.942027",
          "status": "completed"
        },
        "tags": [],
        "id": "3xfT573g2NcQ"
      },
      "source": [
        "class RANZERDataset(Dataset):\n",
        "    def __init__(self, df, mode, transform=None):\n",
        "        \n",
        "        self.df = df.reset_index(drop=True)\n",
        "        self.mode = mode\n",
        "        self.transform = transform\n",
        "        self.labels = df[target_cols].values\n",
        "        \n",
        "    def __len__(self):\n",
        "        return len(self.df)\n",
        "    \n",
        "    def __getitem__(self, index):\n",
        "        row = self.df.loc[index]\n",
        "        img = cv2.imread(row.file_path)\n",
        "        img = cv2.cvtColor(img, cv2.COLOR_BGR2RGB)\n",
        "        \n",
        "        if self.transform is not None:\n",
        "            res = self.transform(image=img)\n",
        "            img = res['image']\n",
        "                \n",
        "        img = img.astype(np.float32)\n",
        "        img = img.transpose(2,0,1)\n",
        "        label = torch.tensor(self.labels[index]).float()\n",
        "        if self.mode == 'test':\n",
        "            return torch.tensor(img).float()\n",
        "        else:\n",
        "            return torch.tensor(img).float(), label"
      ],
      "execution_count": 7,
      "outputs": []
    },
    {
      "cell_type": "code",
      "metadata": {
        "execution": {
          "iopub.execute_input": "2021-01-05T05:34:23.999717Z",
          "iopub.status.busy": "2021-01-05T05:34:23.999204Z",
          "iopub.status.idle": "2021-01-05T05:34:24.164253Z",
          "shell.execute_reply": "2021-01-05T05:34:24.163489Z"
        },
        "papermill": {
          "duration": 0.185474,
          "end_time": "2021-01-05T05:34:24.164369",
          "exception": false,
          "start_time": "2021-01-05T05:34:23.978895",
          "status": "completed"
        },
        "tags": [],
        "id": "n-1PVviH2NcQ"
      },
      "source": [
        "df_train = pd.read_csv('/content/drive/MyDrive/RANSAC train/train_5folds.csv')\n",
        "df_train['file_path'] = df_train.StudyInstanceUID.apply(lambda x: os.path.join(data_dir, f'{x}.jpg'))\n",
        "if debug:\n",
        "    df_train = df_train.sample(frac=0.1)\n",
        "target_cols = df_train.iloc[:, 1:12].columns.tolist()\n",
        "dataset = RANZERDataset(df_train, 'train', transform=transforms_train)"
      ],
      "execution_count": 8,
      "outputs": []
    },
    {
      "cell_type": "markdown",
      "metadata": {
        "papermill": {
          "duration": 0.011774,
          "end_time": "2021-01-05T05:34:24.188182",
          "exception": false,
          "start_time": "2021-01-05T05:34:24.176408",
          "status": "completed"
        },
        "tags": [],
        "id": "MpWYr4Kt2NcR"
      },
      "source": [
        "## Utils"
      ]
    },
    {
      "cell_type": "code",
      "metadata": {
        "execution": {
          "iopub.execute_input": "2021-01-05T05:34:24.229730Z",
          "iopub.status.busy": "2021-01-05T05:34:24.229182Z",
          "iopub.status.idle": "2021-01-05T05:34:24.232895Z",
          "shell.execute_reply": "2021-01-05T05:34:24.232419Z"
        },
        "papermill": {
          "duration": 0.033092,
          "end_time": "2021-01-05T05:34:24.233024",
          "exception": false,
          "start_time": "2021-01-05T05:34:24.199932",
          "status": "completed"
        },
        "tags": [],
        "id": "LrZLLwu-2NcR"
      },
      "source": [
        "def macro_multilabel_auc(label, pred):\n",
        "    aucs = []\n",
        "    for i in range(len(target_cols)):\n",
        "        aucs.append(roc_auc_score(label[:, i], pred[:, i]))\n",
        "    print(np.round(aucs, 4))\n",
        "    return np.mean(aucs)\n",
        "\n",
        "\n",
        "def train_func(train_loader):\n",
        "    model.train()\n",
        "    bar = tqdm(train_loader)\n",
        "    if use_amp:\n",
        "        scaler = torch.cuda.amp.GradScaler()\n",
        "    losses = []\n",
        "    for batch_idx, (images, targets) in enumerate(bar):\n",
        "\n",
        "        images, targets = images.to(device), targets.to(device)\n",
        "        \n",
        "        if use_amp:\n",
        "            with torch.cuda.amp.autocast():\n",
        "                logits = model(images)\n",
        "                loss = criterion(logits, targets)\n",
        "            scaler.scale(loss).backward()\n",
        "            scaler.step(optimizer)\n",
        "            scaler.update()\n",
        "            optimizer.zero_grad()\n",
        "        else:\n",
        "            logits = model(images)\n",
        "            loss = criterion(logits, targets)\n",
        "            loss.backward()\n",
        "            optimizer.step()\n",
        "            optimizer.zero_grad()\n",
        "\n",
        "        losses.append(loss.item())\n",
        "        smooth_loss = np.mean(losses[-30:])\n",
        "\n",
        "        bar.set_description(f'loss: {loss.item():.5f}, smth: {smooth_loss:.5f}')\n",
        "\n",
        "    loss_train = np.mean(losses)\n",
        "    return loss_train\n",
        "\n",
        "\n",
        "def valid_func(valid_loader):\n",
        "    model.eval()\n",
        "    bar = tqdm(valid_loader)\n",
        "\n",
        "    PROB = []\n",
        "    TARGETS = []\n",
        "    losses = []\n",
        "    PREDS = []\n",
        "    \n",
        "    with torch.no_grad():\n",
        "        for batch_idx, (images, targets) in enumerate(bar):\n",
        "\n",
        "            images, targets = images.to(device), targets.to(device)\n",
        "            logits = model(images)\n",
        "            PREDS += [logits.sigmoid()]\n",
        "            TARGETS += [targets.detach().cpu()]\n",
        "            loss = criterion(logits, targets)\n",
        "            losses.append(loss.item())\n",
        "            smooth_loss = np.mean(losses[-30:])\n",
        "            bar.set_description(f'loss: {loss.item():.5f}, smth: {smooth_loss:.5f}')\n",
        "            \n",
        "    PREDS = torch.cat(PREDS).cpu().numpy()\n",
        "    TARGETS = torch.cat(TARGETS).cpu().numpy()\n",
        "    #roc_auc = roc_auc_score(TARGETS.reshape(-1), PREDS.reshape(-1))\n",
        "    roc_auc = macro_multilabel_auc(TARGETS, PREDS)\n",
        "    loss_valid = np.mean(losses)\n",
        "    return loss_valid, roc_auc"
      ],
      "execution_count": 9,
      "outputs": []
    },
    {
      "cell_type": "markdown",
      "metadata": {
        "papermill": {
          "duration": 0.011616,
          "end_time": "2021-01-05T05:34:24.256758",
          "exception": false,
          "start_time": "2021-01-05T05:34:24.245142",
          "status": "completed"
        },
        "tags": [],
        "id": "NWo6129b2NcR"
      },
      "source": [
        "## Training"
      ]
    },
    {
      "cell_type": "code",
      "metadata": {
        "execution": {
          "iopub.execute_input": "2021-01-05T05:34:24.284780Z",
          "iopub.status.busy": "2021-01-05T05:34:24.284189Z",
          "iopub.status.idle": "2021-01-05T05:34:33.404981Z",
          "shell.execute_reply": "2021-01-05T05:34:33.403871Z"
        },
        "papermill": {
          "duration": 9.136543,
          "end_time": "2021-01-05T05:34:33.405097",
          "exception": false,
          "start_time": "2021-01-05T05:34:24.268554",
          "status": "completed"
        },
        "tags": [],
        "id": "OrzkuWFM2NcT"
      },
      "source": [
        "model = RANZCRResNet200D(out_dim=len(target_cols), pretrained=False)\n",
        "model = model.to(device)"
      ],
      "execution_count": 10,
      "outputs": []
    },
    {
      "cell_type": "code",
      "metadata": {
        "colab": {
          "base_uri": "https://localhost:8080/"
        },
        "id": "OQDBBlrIWysK",
        "outputId": "d8797b78-c978-4d0d-90e7-e71d6efaec37"
      },
      "source": [
        "model.load_state_dict(torch.load('/content/drive/MyDrive/RANSAC/resnet200d_fold0_cv953.pth', map_location='cuda:0'))"
      ],
      "execution_count": 11,
      "outputs": [
        {
          "output_type": "execute_result",
          "data": {
            "text/plain": [
              "<All keys matched successfully>"
            ]
          },
          "metadata": {
            "tags": []
          },
          "execution_count": 11
        }
      ]
    },
    {
      "cell_type": "code",
      "metadata": {
        "execution": {
          "iopub.execute_input": "2021-01-05T05:34:33.448216Z",
          "iopub.status.busy": "2021-01-05T05:34:33.447657Z",
          "iopub.status.idle": "2021-01-05T05:34:33.547901Z",
          "shell.execute_reply": "2021-01-05T05:34:33.546917Z"
        },
        "papermill": {
          "duration": 0.13069,
          "end_time": "2021-01-05T05:34:33.548014",
          "exception": false,
          "start_time": "2021-01-05T05:34:33.417324",
          "status": "completed"
        },
        "tags": [],
        "id": "NeEqDc2E2NcT"
      },
      "source": [
        "criterion = nn.BCEWithLogitsLoss()\n",
        "optimizer = optim.Adam(model.parameters(), lr=init_lr/warmup_factor)\n",
        "scheduler_cosine = torch.optim.lr_scheduler.CosineAnnealingLR(optimizer, n_epochs, eta_min=1e-7)\n",
        "scheduler_warmup = GradualWarmupSchedulerV2(optimizer, multiplier=10, total_epoch=warmup_epo, after_scheduler=scheduler_cosine)\n",
        "\n",
        "df_train_this = df_train[df_train['fold'] != fold_id]\n",
        "df_valid_this = df_train[df_train['fold'] == fold_id]\n",
        "\n",
        "dataset_train = RANZERDataset(df_train_this, 'train', transform=transforms_train)\n",
        "dataset_valid = RANZERDataset(df_valid_this, 'valid', transform=transforms_valid)\n",
        "\n",
        "train_loader = torch.utils.data.DataLoader(dataset_train, batch_size=batch_size, shuffle=True,  num_workers=num_workers, pin_memory=True)\n",
        "valid_loader = torch.utils.data.DataLoader(dataset_valid, batch_size=valid_batch_size, shuffle=False, num_workers=num_workers, pin_memory=True)"
      ],
      "execution_count": 12,
      "outputs": []
    },
    {
      "cell_type": "code",
      "metadata": {
        "colab": {
          "base_uri": "https://localhost:8080/",
          "height": 35
        },
        "id": "vBJ5kJJNxtQW",
        "outputId": "811fd7f0-91dc-4df0-dbb2-e2ef0c2ecd1e"
      },
      "source": [
        "df_train['file_path'][0]"
      ],
      "execution_count": 13,
      "outputs": [
        {
          "output_type": "execute_result",
          "data": {
            "application/vnd.google.colaboratory.intrinsic+json": {
              "type": "string"
            },
            "text/plain": [
              "'/content/data/1.2.826.0.1.3680043.8.498.26697628953273228189375557799582420561.jpg'"
            ]
          },
          "metadata": {
            "tags": []
          },
          "execution_count": 13
        }
      ]
    },
    {
      "cell_type": "code",
      "metadata": {
        "colab": {
          "base_uri": "https://localhost:8080/",
          "height": 269
        },
        "id": "CYYXKitrY8gH",
        "outputId": "a7f44f88-1f0e-4f68-d817-1f64038c9efe"
      },
      "source": [
        "image = cv2.imread(df_train['file_path'][0]) \r\n",
        "plt.imshow(image) \r\n",
        "plt.show()"
      ],
      "execution_count": 14,
      "outputs": [
        {
          "output_type": "display_data",
          "data": {
            "image/png": "[encoded data removed]",
            "text/plain": [
              "<Figure size 432x288 with 1 Axes>"
            ]
          },
          "metadata": {
            "tags": [],
            "needs_background": "light"
          }
        }
      ]
    },
    {
      "cell_type": "code",
      "metadata": {
        "execution": {
          "iopub.execute_input": "2021-01-05T05:34:33.586772Z",
          "iopub.status.busy": "2021-01-05T05:34:33.586238Z",
          "iopub.status.idle": "2021-01-05T05:40:16.746117Z",
          "shell.execute_reply": "2021-01-05T05:40:16.745539Z"
        },
        "papermill": {
          "duration": 343.185712,
          "end_time": "2021-01-05T05:40:16.746245",
          "exception": false,
          "start_time": "2021-01-05T05:34:33.560533",
          "status": "completed"
        },
        "tags": [],
        "colab": {
          "base_uri": "https://localhost:8080/"
        },
        "id": "Nan7-EOY2NcU",
        "outputId": "f3e4e002-6ef8-49ad-a2c7-df6b9ddd707b"
      },
      "source": [
        "log = {}\n",
        "roc_auc_max = 0.\n",
        "loss_min = 99999\n",
        "not_improving = 0\n",
        "\n",
        "for epoch in range(1, n_epochs+1):\n",
        "    scheduler_warmup.step(epoch-1)\n",
        "    loss_train = train_func(train_loader)\n",
        "    loss_valid, roc_auc = valid_func(valid_loader)\n",
        "\n",
        "    log['loss_train'] = log.get('loss_train', []) + [loss_train]\n",
        "    log['loss_valid'] = log.get('loss_valid', []) + [loss_valid]\n",
        "    log['lr'] = log.get('lr', []) + [optimizer.param_groups[0][\"lr\"]]\n",
        "    log['roc_auc'] = log.get('roc_auc', []) + [roc_auc]\n",
        "\n",
        "    content = time.ctime() + ' ' + f'Fold {fold_id}, Epoch {epoch}, lr: {optimizer.param_groups[0][\"lr\"]:.7f}, loss_train: {loss_train:.5f}, loss_valid: {loss_valid:.5f}, roc_auc: {roc_auc:.6f}.'\n",
        "    print(content)\n",
        "    not_improving += 1\n",
        "    \n",
        "    if roc_auc > roc_auc_max:\n",
        "        print(f'roc_auc_max ({roc_auc_max:.6f} --> {roc_auc:.6f}). Saving model ...')\n",
        "        torch.save(model.state_dict(), f'{model_dir}{kernel_type}_fold{fold_id}_best_AUC.pth')\n",
        "        roc_auc_max = roc_auc\n",
        "        not_improving = 0\n",
        "\n",
        "    if loss_valid < loss_min:\n",
        "        loss_min = loss_valid\n",
        "        torch.save(model.state_dict(), f'{model_dir}{kernel_type}_fold{fold_id}_best_loss.pth')\n",
        "        \n",
        "    if not_improving == early_stop:\n",
        "        print('Early Stopping...')\n",
        "        break\n",
        "        \n",
        "    ## only run 1 epoch here\n",
        "    break\n",
        "\n",
        "torch.save(model.state_dict(), f'{model_dir}{kernel_type}_640fold{fold_id}_final.pth')"
      ],
      "execution_count": null,
      "outputs": [
        {
          "output_type": "stream",
          "text": [
            "loss: 0.24467, smth: 0.18625:  96%|█████████▌| 2883/3010 [39:32<01:48,  1.17it/s]"
          ],
          "name": "stderr"
        }
      ]
    }
  ]
}